{
 "cells": [
  {
   "cell_type": "code",
   "execution_count": null,
   "metadata": {},
   "outputs": [],
   "source": [
    "import pandas as pd\n",
    "import re\n",
    "import requests\n",
    "import lxml\n",
    "from lxml import html\n"
   ]
  },
  {
   "cell_type": "code",
   "execution_count": null,
   "metadata": {},
   "outputs": [],
   "source": [
    "class Scrapper:\n",
    "    \n",
    "    def __init__(self, source, link_pattern, xpath, df):\n",
    "        self.source = source\n",
    "        self.link_pattern = link_pattern\n",
    "        self.xpath = xpath\n",
    "        self.df = df\n",
    "        self.link_storage = []\n",
    "        self.link_history = []\n",
    "        \n",
    "    def scrape(self, links):\n",
    "        for link in links:\n",
    "            seed_page = self.load(link)\n",
    "            if is_needed(link):\n",
    "                self.extract_info(seed_page)\n",
    "            extract_links(seed_page)\n",
    "            scrape(link_storage)\n",
    "    \n",
    "    def extract_links(self, page):\n",
    "        pattern = self.source + '[a-z0-9\\-\\_\\.\\/]+'\n",
    "        links = re.findall(pattern, page)\n",
    "        for link in links:\n",
    "            if not link in self.link_storage:\n",
    "                self.link_storage.append(link)\n",
    "    \n",
    "    def load(self,link):\n",
    "        response = None\n",
    "        if link not in self.link_history:\n",
    "            response = requests.get(link) #page = requests.get(link) #response = page.text @можно вместо строки\n",
    "            self.link_history.append(link)\n",
    "        return response\n",
    "    \n",
    "    def is_needed():\n",
    "        pattern = self.source + self.pattern + '[a-z0-9\\-\\_\\.\\/]+'\n",
    "            return bool\n",
    "    def extract_info(self, page):\n",
    "        tree = html.fromstring(page.content)\n",
    "        result = tree.xpath(self.xpath)\n",
    "        \n",
    "        return result\n",
    "        "
   ]
  },
  {
   "cell_type": "code",
   "execution_count": null,
   "metadata": {},
   "outputs": [],
   "source": [
    "\n",
    "\n",
    "df = pd.DataFrame(columns=['title','foto'])\n",
    "\n",
    "scrapper_kloop = Scrapper('https://kloop.kg',\n",
    "                        '/blog/',\n",
    "                        '//header/h1/text()',\n",
    "                        df)\n",
    "                           "
   ]
  },
  {
   "cell_type": "code",
   "execution_count": 10,
   "metadata": {},
   "outputs": [],
   "source": [
    "scrapper_kloop.extract_links('''<head>\n",
    "    <title>Иса Омуркулов больше не член СДПК, но остается лидером ее парламентской фракции. Что происходит?</title>\n",
    "    <meta charset=\"UTF-8\" />\n",
    "    <meta name=\"viewport\" content=\"width=device-width, initial-scale=1.0\">\n",
    "    <link rel=\"pingback\" href=\"https://kloop.kg/xmlrpc.php\" />\n",
    "    \t\t\t\t<script>\n",
    "\t\t\t\t\t\t\t\t</script>\n",
    "\t\t\t<meta property=\"og:image\" content=\"https://kloop.kg/wp-content/uploads/2018/11/omurk_main.jpg\" /><link rel=\"icon\" type=\"image/png\" href=\"https://kloop.kg/wp-content/uploads/2014/08/kloop_favicon.png\">\n",
    "<meta property=\"og:title\" content=\"Иса Омуркулов больше не член СДПК, но остается лидером ее парламентской фракции. Что происходит?\" />\n",
    "<meta property=\"og:description\" content=\"Лидер парламентской фракции СДПК Иса Омуркулов больше не член партии — он был исключен решением политсовета социал-демократов. Это случилось на фоне собраний движения «СДПК без Атамбаева», которое, как утверждает один из его организаторов Сагынбек Абдрахманов, поддержал Омуркулов.\" />''')"
   ]
  },
  {
   "cell_type": "code",
   "execution_count": 11,
   "metadata": {},
   "outputs": [
    {
     "data": {
      "text/plain": [
       "['https://kloop.kg/xmlrpc.php',\n",
       " 'https://kloop.kg/wp-content/uploads/2018/11/omurk_main.jpg',\n",
       " 'https://kloop.kg/wp-content/uploads/2014/08/kloop_favicon.png']"
      ]
     },
     "execution_count": 11,
     "metadata": {},
     "output_type": "execute_result"
    }
   ],
   "source": [
    "scrapper_kloop.link_storage"
   ]
  },
  {
   "cell_type": "code",
   "execution_count": 12,
   "metadata": {},
   "outputs": [],
   "source": [
    "page = scrapper_kloop.load('''https://kloop.kg/blog/2018/11/01/isa-omurkulov-bolshe-ne-chlen-sdpk-no-ostaetsya-liderom-ee-parlamentskoj-fraktsii-chto-proishodit/''')"
   ]
  },
  {
   "cell_type": "code",
   "execution_count": 7,
   "metadata": {},
   "outputs": [
    {
     "name": "stdout",
     "output_type": "stream",
     "text": [
      "<Response [200]>\n"
     ]
    }
   ],
   "source": [
    "print(page)"
   ]
  },
  {
   "cell_type": "code",
   "execution_count": 8,
   "metadata": {},
   "outputs": [
    {
     "data": {
      "text/plain": [
       "['Ð\\x98Ñ\\x81Ð° Ð\\x9eÐ¼Ñ\\x83Ñ\\x80ÐºÑ\\x83Ð»Ð¾Ð² Ð±Ð¾Ð»Ñ\\x8cÑ\\x88Ðµ Ð½Ðµ Ñ\\x87Ð»ÐµÐ½ Ð¡Ð\\x94Ð\\x9fÐ\\x9a, Ð½Ð¾ Ð¾Ñ\\x81Ñ\\x82Ð°ÐµÑ\\x82Ñ\\x81Ñ\\x8f Ð»Ð¸Ð´ÐµÑ\\x80Ð¾Ð¼ ÐµÐµ Ð¿Ð°Ñ\\x80Ð»Ð°Ð¼ÐµÐ½Ñ\\x82Ñ\\x81ÐºÐ¾Ð¹ Ñ\\x84Ñ\\x80Ð°ÐºÑ\\x86Ð¸Ð¸. Ð§Ñ\\x82Ð¾ Ð¿Ñ\\x80Ð¾Ð¸Ñ\\x81Ñ\\x85Ð¾Ð´Ð¸Ñ\\x82?']"
      ]
     },
     "execution_count": 8,
     "metadata": {},
     "output_type": "execute_result"
    }
   ],
   "source": [
    "scrapper_kloop.extract_info(page)"
   ]
  },
  {
   "cell_type": "code",
   "execution_count": null,
   "metadata": {},
   "outputs": [],
   "source": []
  }
 ],
 "metadata": {
  "kernelspec": {
   "display_name": "Python 3",
   "language": "python",
   "name": "python3"
  },
  "language_info": {
   "codemirror_mode": {
    "name": "ipython",
    "version": 3
   },
   "file_extension": ".py",
   "mimetype": "text/x-python",
   "name": "python",
   "nbconvert_exporter": "python",
   "pygments_lexer": "ipython3",
   "version": "3.7.1"
  }
 },
 "nbformat": 4,
 "nbformat_minor": 2
}
