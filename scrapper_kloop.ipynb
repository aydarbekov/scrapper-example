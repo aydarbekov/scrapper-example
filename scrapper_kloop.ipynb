{
 "cells": [
  {
   "cell_type": "code",
   "execution_count": null,
   "metadata": {},
   "outputs": [],
   "source": [
    "import pandas as pd\n",
    "\n",
    "df = pd.DataFrame(columns=['title'])\n",
    "\n",
    "scrapper_kloop = Scrapper('https://kloop.kg', \n",
    "                          '/blog/',\n",
    "                          '//header/@text',\n",
    "                          df)"
   ]
  },
  {
   "cell_type": "code",
   "execution_count": null,
   "metadata": {},
   "outputs": [],
   "source": [
    "scrapper_kloop.scrape(['https://kloop.kg'])"
   ]
  },
  {
   "cell_type": "code",
   "execution_count": null,
   "metadata": {},
   "outputs": [],
   "source": [
    "class Scrapper:\n",
    "    \n",
    "    def __init__(self, source, link_pattern, xpath, df):\n",
    "        self.source = source\n",
    "        self.link_pattern = link_pattern\n",
    "        self.xpath = xpath\n",
    "        self.df = df\n",
    "        self.link_storage = []\n",
    "        self.link_history = []\n",
    "    \n",
    "    def scrape(self, links):\n",
    "        for link in links:\n",
    "            seed_page = self.load(link)\n",
    "            if is_needed(link):\n",
    "                self.extract_info(seed_page)\n",
    "            extract_links(seed_page)\n",
    "        scrape(link_storage)\n",
    "        \n",
    "        \n",
    "        "
   ]
  }
 ],
 "metadata": {
  "kernelspec": {
   "display_name": "Python 3",
   "language": "python",
   "name": "python3"
  },
  "language_info": {
   "codemirror_mode": {
    "name": "ipython",
    "version": 3
   },
   "file_extension": ".py",
   "mimetype": "text/x-python",
   "name": "python",
   "nbconvert_exporter": "python",
   "pygments_lexer": "ipython3",
   "version": "3.7.1"
  }
 },
 "nbformat": 4,
 "nbformat_minor": 2
}
